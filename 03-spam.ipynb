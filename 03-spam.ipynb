{
  "nbformat": 4,
  "nbformat_minor": 0,
  "metadata": {
    "colab": {
      "name": "03-spam.ipynb",
      "provenance": [],
      "collapsed_sections": []
    },
    "kernelspec": {
      "display_name": "Python 3",
      "language": "python",
      "name": "python3"
    },
    "language_info": {
      "codemirror_mode": {
        "name": "ipython",
        "version": 3
      },
      "file_extension": ".py",
      "mimetype": "text/x-python",
      "name": "python",
      "nbconvert_exporter": "python",
      "pygments_lexer": "ipython3",
      "version": "3.6.7"
    }
  },
  "cells": [
    {
      "cell_type": "code",
      "metadata": {
        "colab_type": "code",
        "id": "n3lnWjvI83ix",
        "colab": {}
      },
      "source": [
        "# Filtado de mensajes spam"
      ],
      "execution_count": 0,
      "outputs": []
    },
    {
      "cell_type": "markdown",
      "metadata": {
        "id": "2GERG3OtmggF",
        "colab_type": "text"
      },
      "source": [
        "## Descripción del problema real"
      ]
    },
    {
      "cell_type": "markdown",
      "metadata": {
        "id": "AvvTgiwEmggG",
        "colab_type": "text"
      },
      "source": [
        "La recepción de publicidad no deseada a traves mensajes de texto usando SMS (Short Message Service) es un problema que afecta a muchos usuarios de teléfonos móviles. El problema radica en que los usuarios deben pagar por los mesajes recibidos, y por este motivo resulta muy importante que las compañías prestadoras del servicio puedan filtrar mensajes indeseados antes de enviarlos a su destinatario final. Los mensajes tienen una longitud máxima de 160 caracteres, por lo que el texto resulta poco para realizar la clasificación, en comparación con textos más largos (como los emails). Adicionalmente, los errores de digitación dificultan el proceso de detección automática."
      ]
    },
    {
      "cell_type": "markdown",
      "metadata": {
        "id": "6g9VxaIgmggH",
        "colab_type": "text"
      },
      "source": [
        "## Descripción del problema en términos de los datos"
      ]
    },
    {
      "cell_type": "markdown",
      "metadata": {
        "id": "uM-s1uN1mggI",
        "colab_type": "text"
      },
      "source": [
        "Se tiene una muestra contiene 5574 mensajes en inglés, no codificados y clasificados como legítimos (ham) o spam (http://www.dt.fee.unicamp.br/~tiago/smsspamcollection/). La información está almacenada en el archivo `datos/spam-sms.zip`.El problema en términos de los datos consiste en clasificar si un mensaje SMS es legítimo o spam, a partir del análisis de las palabras que contiente, partiendo del supuesto de que ciertas palabras que son más frecuentes dependiendo del tipo de mensaje. Esto implica que en la fase de preparación de los datos se deben extraer las palabras que contiene cada mensaje para poder realizar el análsis."
      ]
    },
    {
      "cell_type": "markdown",
      "metadata": {
        "id": "gFq-DXUPmggJ",
        "colab_type": "text"
      },
      "source": [
        "## Aproximaciones posibles"
      ]
    },
    {
      "cell_type": "markdown",
      "metadata": {
        "id": "ZnXIRnTvmggJ",
        "colab_type": "text"
      },
      "source": [
        "En este caso, se desea comparar los resultados de un modelo de redes neuronales artificiales y otras técnicas estadísticas para realizar la clasificación."
      ]
    },
    {
      "cell_type": "markdown",
      "metadata": {
        "id": "O0JtWjBbmggK",
        "colab_type": "text"
      },
      "source": [
        "## Requerimientos"
      ]
    },
    {
      "cell_type": "markdown",
      "metadata": {
        "id": "-Vhlc_6_mggL",
        "colab_type": "text"
      },
      "source": [
        "Usted debe:\n",
        "\n",
        "* Preprocesar los datos para representarlos usando bag-of-words.\n",
        "\n",
        "\n",
        "* Construir un modelo de regresión logística como punto base para la comparación con otros modelos más complejos.\n",
        "\n",
        "\n",
        "* Construir un modelo de redes neuronales artificiales. Asimismo, debe determinar el número de neuronas en la capa o capas ocultas.\n",
        "\n",
        "\n",
        "* Utiizar una técnica como crossvalidation u otra similar para establecer la robustez del modelo.\n",
        "\n",
        "\n",
        "* Presentar métricas de desempeño para establecer las bondades y falencias de cada clasificador."
      ]
    },
    {
      "cell_type": "markdown",
      "metadata": {
        "id": "NjONqqQ1qfLj",
        "colab_type": "text"
      },
      "source": [
        "#Solución\n",
        "\n",
        "Se cargan los datos y se preparan según el ejemplo sugerido por el profesor"
      ]
    },
    {
      "cell_type": "code",
      "metadata": {
        "id": "q5m3ZhDFnVPk",
        "colab_type": "code",
        "outputId": "326c3573-0ae0-4308-d0de-7c9a27c030c4",
        "colab": {
          "base_uri": "https://localhost:8080/",
          "height": 143
        }
      },
      "source": [
        "import pandas as pd\n",
        "import numpy as np\n",
        "import seaborn as sns\n",
        "import matplotlib.pyplot as plt\n",
        "%matplotlib inline\n",
        "%load_ext rpy2.ipython"
      ],
      "execution_count": 1,
      "outputs": [
        {
          "output_type": "stream",
          "text": [
            "/usr/local/lib/python3.6/dist-packages/statsmodels/tools/_testing.py:19: FutureWarning: pandas.util.testing is deprecated. Use the functions in the public API at pandas.testing instead.\n",
            "  import pandas.util.testing as tm\n",
            "/usr/local/lib/python3.6/dist-packages/rpy2/robjects/pandas2ri.py:14: FutureWarning: pandas.core.index is deprecated and will be removed in a future version.  The public classes are available in the top-level namespace.\n",
            "  from pandas.core.index import Index as PandasIndex\n",
            "/usr/local/lib/python3.6/dist-packages/rpy2/robjects/pandas2ri.py:34: UserWarning: pandas >= 1.0 is not supported.\n",
            "  warnings.warn('pandas >= 1.0 is not supported.')\n"
          ],
          "name": "stderr"
        }
      ]
    },
    {
      "cell_type": "code",
      "metadata": {
        "id": "tWkX9cnUnVwI",
        "colab_type": "code",
        "outputId": "746e626c-b9e2-4cf4-d595-6b615416dea1",
        "colab": {
          "base_uri": "https://localhost:8080/",
          "height": 197
        }
      },
      "source": [
        "df = pd.read_csv(\n",
        "    \"https://raw.githubusercontent.com/jdvelasq/datalabs/master/datasets/sms-spam.csv\",\n",
        "    sep = ',',\n",
        "    thousands = None,\n",
        "    decimal = '.',\n",
        "    encoding='latin-1')\n",
        "\n",
        "df.head()"
      ],
      "execution_count": 2,
      "outputs": [
        {
          "output_type": "execute_result",
          "data": {
            "text/html": [
              "<div>\n",
              "<style scoped>\n",
              "    .dataframe tbody tr th:only-of-type {\n",
              "        vertical-align: middle;\n",
              "    }\n",
              "\n",
              "    .dataframe tbody tr th {\n",
              "        vertical-align: top;\n",
              "    }\n",
              "\n",
              "    .dataframe thead th {\n",
              "        text-align: right;\n",
              "    }\n",
              "</style>\n",
              "<table border=\"1\" class=\"dataframe\">\n",
              "  <thead>\n",
              "    <tr style=\"text-align: right;\">\n",
              "      <th></th>\n",
              "      <th>type</th>\n",
              "      <th>text</th>\n",
              "    </tr>\n",
              "  </thead>\n",
              "  <tbody>\n",
              "    <tr>\n",
              "      <th>0</th>\n",
              "      <td>ham</td>\n",
              "      <td>Go until jurong point, crazy.. Available only ...</td>\n",
              "    </tr>\n",
              "    <tr>\n",
              "      <th>1</th>\n",
              "      <td>ham</td>\n",
              "      <td>Ok lar... Joking wif u oni...</td>\n",
              "    </tr>\n",
              "    <tr>\n",
              "      <th>2</th>\n",
              "      <td>spam</td>\n",
              "      <td>Free entry in 2 a wkly comp to win FA Cup fina...</td>\n",
              "    </tr>\n",
              "    <tr>\n",
              "      <th>3</th>\n",
              "      <td>ham</td>\n",
              "      <td>U dun say so early hor... U c already then say...</td>\n",
              "    </tr>\n",
              "    <tr>\n",
              "      <th>4</th>\n",
              "      <td>ham</td>\n",
              "      <td>Nah I don't think he goes to usf, he lives aro...</td>\n",
              "    </tr>\n",
              "  </tbody>\n",
              "</table>\n",
              "</div>"
            ],
            "text/plain": [
              "   type                                               text\n",
              "0   ham  Go until jurong point, crazy.. Available only ...\n",
              "1   ham                      Ok lar... Joking wif u oni...\n",
              "2  spam  Free entry in 2 a wkly comp to win FA Cup fina...\n",
              "3   ham  U dun say so early hor... U c already then say...\n",
              "4   ham  Nah I don't think he goes to usf, he lives aro..."
            ]
          },
          "metadata": {
            "tags": []
          },
          "execution_count": 2
        }
      ]
    },
    {
      "cell_type": "code",
      "metadata": {
        "id": "aCtuV8ulndH2",
        "colab_type": "code",
        "outputId": "bb8e76ba-adf6-43e6-d4a5-30e3253241e5",
        "colab": {
          "base_uri": "https://localhost:8080/",
          "height": 167
        }
      },
      "source": [
        "##\n",
        "## Verifica la lectura de los datos\n",
        "##\n",
        "df.describe()"
      ],
      "execution_count": 3,
      "outputs": [
        {
          "output_type": "execute_result",
          "data": {
            "text/html": [
              "<div>\n",
              "<style scoped>\n",
              "    .dataframe tbody tr th:only-of-type {\n",
              "        vertical-align: middle;\n",
              "    }\n",
              "\n",
              "    .dataframe tbody tr th {\n",
              "        vertical-align: top;\n",
              "    }\n",
              "\n",
              "    .dataframe thead th {\n",
              "        text-align: right;\n",
              "    }\n",
              "</style>\n",
              "<table border=\"1\" class=\"dataframe\">\n",
              "  <thead>\n",
              "    <tr style=\"text-align: right;\">\n",
              "      <th></th>\n",
              "      <th>type</th>\n",
              "      <th>text</th>\n",
              "    </tr>\n",
              "  </thead>\n",
              "  <tbody>\n",
              "    <tr>\n",
              "      <th>count</th>\n",
              "      <td>5574</td>\n",
              "      <td>5574</td>\n",
              "    </tr>\n",
              "    <tr>\n",
              "      <th>unique</th>\n",
              "      <td>2</td>\n",
              "      <td>5160</td>\n",
              "    </tr>\n",
              "    <tr>\n",
              "      <th>top</th>\n",
              "      <td>ham</td>\n",
              "      <td>Sorry, I'll call later</td>\n",
              "    </tr>\n",
              "    <tr>\n",
              "      <th>freq</th>\n",
              "      <td>4827</td>\n",
              "      <td>30</td>\n",
              "    </tr>\n",
              "  </tbody>\n",
              "</table>\n",
              "</div>"
            ],
            "text/plain": [
              "        type                    text\n",
              "count   5574                    5574\n",
              "unique     2                    5160\n",
              "top      ham  Sorry, I'll call later\n",
              "freq    4827                      30"
            ]
          },
          "metadata": {
            "tags": []
          },
          "execution_count": 3
        }
      ]
    },
    {
      "cell_type": "code",
      "metadata": {
        "id": "nWN3EPSGnkaO",
        "colab_type": "code",
        "outputId": "71288428-31b6-45f0-defb-aa42174c6812",
        "colab": {
          "base_uri": "https://localhost:8080/",
          "height": 70
        }
      },
      "source": [
        "##\n",
        "## Se obtiene la cantidad de casos para\n",
        "## cada tipo de mensaje.\n",
        "##\n",
        "df.type.value_counts()"
      ],
      "execution_count": 4,
      "outputs": [
        {
          "output_type": "execute_result",
          "data": {
            "text/plain": [
              "ham     4827\n",
              "spam     747\n",
              "Name: type, dtype: int64"
            ]
          },
          "metadata": {
            "tags": []
          },
          "execution_count": 4
        }
      ]
    },
    {
      "cell_type": "code",
      "metadata": {
        "id": "z-vhI5AlnnD6",
        "colab_type": "code",
        "outputId": "ccf44ce0-da9b-44f0-da3b-64328378b522",
        "colab": {
          "base_uri": "https://localhost:8080/",
          "height": 284
        }
      },
      "source": [
        "df.type.value_counts().plot.bar();"
      ],
      "execution_count": 5,
      "outputs": [
        {
          "output_type": "display_data",
          "data": {
            "image/png": "[encoded data removed]",
            "text/plain": [
              "<Figure size 432x288 with 1 Axes>"
            ]
          },
          "metadata": {
            "tags": []
          }
        }
      ]
    },
    {
      "cell_type": "code",
      "metadata": {
        "id": "-erc8zdDnpc2",
        "colab_type": "code",
        "outputId": "300a28c1-0e66-4c34-818d-359e4d637b8a",
        "colab": {
          "base_uri": "https://localhost:8080/",
          "height": 70
        }
      },
      "source": [
        "##\n",
        "## Se convierte el conteo anterior en probabilidades.\n",
        "##\n",
        "round(100 * df.type.value_counts() / sum(df.type.value_counts()), 1)"
      ],
      "execution_count": 6,
      "outputs": [
        {
          "output_type": "execute_result",
          "data": {
            "text/plain": [
              "ham     86.6\n",
              "spam    13.4\n",
              "Name: type, dtype: float64"
            ]
          },
          "metadata": {
            "tags": []
          },
          "execution_count": 6
        }
      ]
    },
    {
      "cell_type": "code",
      "metadata": {
        "id": "PsQL3JAQntk3",
        "colab_type": "code",
        "outputId": "2d385307-7881-40b8-cff8-c35075833a6d",
        "colab": {
          "base_uri": "https://localhost:8080/",
          "height": 347
        }
      },
      "source": [
        "from nltk.stem.porter import PorterStemmer\n",
        "stemmer = PorterStemmer()\n",
        "\n",
        "df['stemmed'] = df.text.apply(lambda x: ' '.join([stemmer.stem(w) for w in x.split() ]))\n",
        "\n",
        "df.head(10)"
      ],
      "execution_count": 7,
      "outputs": [
        {
          "output_type": "execute_result",
          "data": {
            "text/html": [
              "<div>\n",
              "<style scoped>\n",
              "    .dataframe tbody tr th:only-of-type {\n",
              "        vertical-align: middle;\n",
              "    }\n",
              "\n",
              "    .dataframe tbody tr th {\n",
              "        vertical-align: top;\n",
              "    }\n",
              "\n",
              "    .dataframe thead th {\n",
              "        text-align: right;\n",
              "    }\n",
              "</style>\n",
              "<table border=\"1\" class=\"dataframe\">\n",
              "  <thead>\n",
              "    <tr style=\"text-align: right;\">\n",
              "      <th></th>\n",
              "      <th>type</th>\n",
              "      <th>text</th>\n",
              "      <th>stemmed</th>\n",
              "    </tr>\n",
              "  </thead>\n",
              "  <tbody>\n",
              "    <tr>\n",
              "      <th>0</th>\n",
              "      <td>ham</td>\n",
              "      <td>Go until jurong point, crazy.. Available only ...</td>\n",
              "      <td>Go until jurong point, crazy.. avail onli in b...</td>\n",
              "    </tr>\n",
              "    <tr>\n",
              "      <th>1</th>\n",
              "      <td>ham</td>\n",
              "      <td>Ok lar... Joking wif u oni...</td>\n",
              "      <td>Ok lar... joke wif u oni...</td>\n",
              "    </tr>\n",
              "    <tr>\n",
              "      <th>2</th>\n",
              "      <td>spam</td>\n",
              "      <td>Free entry in 2 a wkly comp to win FA Cup fina...</td>\n",
              "      <td>free entri in 2 a wkli comp to win FA cup fina...</td>\n",
              "    </tr>\n",
              "    <tr>\n",
              "      <th>3</th>\n",
              "      <td>ham</td>\n",
              "      <td>U dun say so early hor... U c already then say...</td>\n",
              "      <td>U dun say so earli hor... U c alreadi then say...</td>\n",
              "    </tr>\n",
              "    <tr>\n",
              "      <th>4</th>\n",
              "      <td>ham</td>\n",
              "      <td>Nah I don't think he goes to usf, he lives aro...</td>\n",
              "      <td>nah I don't think he goe to usf, he live aroun...</td>\n",
              "    </tr>\n",
              "    <tr>\n",
              "      <th>5</th>\n",
              "      <td>spam</td>\n",
              "      <td>FreeMsg Hey there darling it's been 3 week's n...</td>\n",
              "      <td>freemsg hey there darl it' been 3 week' now an...</td>\n",
              "    </tr>\n",
              "    <tr>\n",
              "      <th>6</th>\n",
              "      <td>ham</td>\n",
              "      <td>Even my brother is not like to speak with me. ...</td>\n",
              "      <td>even my brother is not like to speak with me. ...</td>\n",
              "    </tr>\n",
              "    <tr>\n",
              "      <th>7</th>\n",
              "      <td>ham</td>\n",
              "      <td>As per your request 'Melle Melle (Oru Minnamin...</td>\n",
              "      <td>As per your request 'mell mell (oru minnaminun...</td>\n",
              "    </tr>\n",
              "    <tr>\n",
              "      <th>8</th>\n",
              "      <td>spam</td>\n",
              "      <td>WINNER!! As a valued network customer you have...</td>\n",
              "      <td>winner!! As a valu network custom you have bee...</td>\n",
              "    </tr>\n",
              "    <tr>\n",
              "      <th>9</th>\n",
              "      <td>spam</td>\n",
              "      <td>Had your mobile 11 months or more? U R entitle...</td>\n",
              "      <td>had your mobil 11 month or more? U R entitl to...</td>\n",
              "    </tr>\n",
              "  </tbody>\n",
              "</table>\n",
              "</div>"
            ],
            "text/plain": [
              "   type  ...                                            stemmed\n",
              "0   ham  ...  Go until jurong point, crazy.. avail onli in b...\n",
              "1   ham  ...                        Ok lar... joke wif u oni...\n",
              "2  spam  ...  free entri in 2 a wkli comp to win FA cup fina...\n",
              "3   ham  ...  U dun say so earli hor... U c alreadi then say...\n",
              "4   ham  ...  nah I don't think he goe to usf, he live aroun...\n",
              "5  spam  ...  freemsg hey there darl it' been 3 week' now an...\n",
              "6   ham  ...  even my brother is not like to speak with me. ...\n",
              "7   ham  ...  As per your request 'mell mell (oru minnaminun...\n",
              "8  spam  ...  winner!! As a valu network custom you have bee...\n",
              "9  spam  ...  had your mobil 11 month or more? U R entitl to...\n",
              "\n",
              "[10 rows x 3 columns]"
            ]
          },
          "metadata": {
            "tags": []
          },
          "execution_count": 7
        }
      ]
    },
    {
      "cell_type": "code",
      "metadata": {
        "id": "7GuqsJBRuy0s",
        "colab_type": "code",
        "outputId": "bea0d14a-3e8f-404c-f61a-bf1db7fe6e98",
        "colab": {
          "base_uri": "https://localhost:8080/",
          "height": 34
        }
      },
      "source": [
        "## Matriz de términos del documento en Python\n",
        "##\n",
        "from sklearn.feature_extraction.text import CountVectorizer\n",
        "\n",
        "count_vect = CountVectorizer(\n",
        "    analyzer='word',        # a nivel de palabra\n",
        "    lowercase=True,         # convierte a minúsculas\n",
        "    stop_words='english',   # stop_words en inglés\n",
        "    binary=True,            # Los valores distintos de cero son fijados en 1\n",
        "    min_df=5                # ignora palabras con baja freq\n",
        ")\n",
        "\n",
        "\n",
        "##\n",
        "## Aplica la función al texto\n",
        "##\n",
        "dtm = count_vect.fit_transform(df.stemmed)\n",
        "\n",
        "##\n",
        "## Las filas contienen los mensajes\n",
        "## y las clomunas los términos\n",
        "##\n",
        "dtm.shape"
      ],
      "execution_count": 8,
      "outputs": [
        {
          "output_type": "execute_result",
          "data": {
            "text/plain": [
              "(5574, 1540)"
            ]
          },
          "metadata": {
            "tags": []
          },
          "execution_count": 8
        }
      ]
    },
    {
      "cell_type": "code",
      "metadata": {
        "id": "kgWyXz3su1px",
        "colab_type": "code",
        "outputId": "bffdbbe3-5cd6-45ad-8a27-77cf4a174f14",
        "colab": {
          "base_uri": "https://localhost:8080/",
          "height": 34
        }
      },
      "source": [
        "##\n",
        "## Palabras aprendidas de los mensajes de texto\n",
        "##\n",
        "vocabulary = count_vect.get_feature_names()\n",
        "len(vocabulary)"
      ],
      "execution_count": 9,
      "outputs": [
        {
          "output_type": "execute_result",
          "data": {
            "text/plain": [
              "1540"
            ]
          },
          "metadata": {
            "tags": []
          },
          "execution_count": 9
        }
      ]
    },
    {
      "cell_type": "code",
      "metadata": {
        "id": "BDMvdeCZu3go",
        "colab_type": "code",
        "outputId": "67ceb820-2d1e-4ee6-e5a0-4aec8bbafd3d",
        "colab": {
          "base_uri": "https://localhost:8080/",
          "height": 194
        }
      },
      "source": [
        "##\n",
        "## Primeras palabras del vocabulario\n",
        "##\n",
        "vocabulary[0:10]"
      ],
      "execution_count": 10,
      "outputs": [
        {
          "output_type": "execute_result",
          "data": {
            "text/plain": [
              "['00',\n",
              " '000',\n",
              " '02',\n",
              " '03',\n",
              " '04',\n",
              " '06',\n",
              " '0800',\n",
              " '08000839402',\n",
              " '08000930705',\n",
              " '0870']"
            ]
          },
          "metadata": {
            "tags": []
          },
          "execution_count": 10
        }
      ]
    },
    {
      "cell_type": "code",
      "metadata": {
        "id": "epaDkGj7u7Pi",
        "colab_type": "code",
        "outputId": "54bcae90-4bb8-4eaf-aa28-413f61fdc216",
        "colab": {
          "base_uri": "https://localhost:8080/",
          "height": 603
        }
      },
      "source": [
        "##\n",
        "## Recupera los mensajes de la dtm\n",
        "##\n",
        "def dtm2words(dtm, vocabulary, index):\n",
        "    as_list = dtm[index,:].toarray().tolist()\n",
        "    docs = []\n",
        "    for i in index:\n",
        "        k = [vocabulary[iword] for iword, ifreq in enumerate(as_list[i]) if ifreq > 0]\n",
        "        docs += [k]\n",
        "    return docs\n",
        "\n",
        "for i, x in enumerate(dtm2words(dtm, vocabulary, [0, 1, 2, 3, 4, 5, 6, 7, 8, 9, 10])):\n",
        "    print('Org: ', df.text[i])\n",
        "    print('Mod: ', ' '.join(x))\n",
        "    print('')"
      ],
      "execution_count": 11,
      "outputs": [
        {
          "output_type": "stream",
          "text": [
            "Org:  Go until jurong point, crazy.. Available only in bugis n great world la e buffet... Cine there got amore wat...\n",
            "Mod:  avail bugi cine got great la onli point wat world\n",
            "\n",
            "Org:  Ok lar... Joking wif u oni...\n",
            "Mod:  joke lar ok wif\n",
            "\n",
            "Org:  Free entry in 2 a wkly comp to win FA Cup final tkts 21st May 2005. Text FA to 87121 to receive entry question(std txt rate)T&C's apply 08452810075over18's\n",
            "Mod:  appli comp cup entri final free question rate receiv std text txt win wkli\n",
            "\n",
            "Org:  U dun say so early hor... U c already then say...\n",
            "Mod:  alreadi dun earli say\n",
            "\n",
            "Org:  Nah I don't think he goes to usf, he lives around here though\n",
            "Mod:  don goe live nah think usf\n",
            "\n",
            "Org:  FreeMsg Hey there darling it's been 3 week's now and no word back! I'd like some fun you up for it still? Tb ok! XxX std chgs to send, Â£1.50 to rcv\n",
            "Mod:  50 darl freemsg fun hey like ok send std week word xxx\n",
            "\n",
            "Org:  Even my brother is not like to speak with me. They treat me like aids patent.\n",
            "Mod:  brother like speak treat\n",
            "\n",
            "Org:  As per your request 'Melle Melle (Oru Minnaminunginte Nurungu Vettam)' has been set as your callertune for all Callers. Press *9 to copy your friends Callertune\n",
            "Mod:  callers callertun copi friend ha press request set\n",
            "\n",
            "Org:  WINNER!! As a valued network customer you have been selected to receivea Â£900 prize reward! To claim call 09061701461. Claim code KL341. Valid 12 hours only.\n",
            "Mod:  12 900 claim code custom hour network prize reward select valid valu winner\n",
            "\n",
            "Org:  Had your mobile 11 months or more? U R entitled to Update to the latest colour mobiles with camera for Free! Call The Mobile Update Co FREE on 08002986030\n",
            "Mod:  11 camera colour entitl free latest mobil month updat\n",
            "\n",
            "Org:  I'm gonna be home soon and i don't want to talk about this stuff anymore tonight, k? I've cried enough today.\n",
            "Mod:  don gonna home soon stuff talk thi today tonight want\n",
            "\n"
          ],
          "name": "stdout"
        }
      ]
    },
    {
      "cell_type": "code",
      "metadata": {
        "id": "UnaO15W6u9Yo",
        "colab_type": "code",
        "colab": {}
      },
      "source": [
        "##\n",
        "## Creación de los conjuntos de entrenamiento y prueba.\n",
        "##\n",
        "X_train      = dtm[0:4168,]\n",
        "X_test       = dtm[4169:,]\n",
        "y_train_true = df.type[0:4168]\n",
        "y_test_true  = df.type[4169:]"
      ],
      "execution_count": 0,
      "outputs": []
    },
    {
      "cell_type": "code",
      "metadata": {
        "id": "nXus8T2Yu_jb",
        "colab_type": "code",
        "outputId": "a108d4b5-fd4d-49f0-9e3c-97702fe39deb",
        "colab": {
          "base_uri": "https://localhost:8080/",
          "height": 70
        }
      },
      "source": [
        "\n",
        "##\n",
        "## Distribución de los datos en el conjunto de entrenamiento.\n",
        "##\n",
        "round(100 * y_train_true.value_counts() / sum(y_train_true.value_counts()), 1)"
      ],
      "execution_count": 13,
      "outputs": [
        {
          "output_type": "execute_result",
          "data": {
            "text/plain": [
              "ham     86.5\n",
              "spam    13.5\n",
              "Name: type, dtype: float64"
            ]
          },
          "metadata": {
            "tags": []
          },
          "execution_count": 13
        }
      ]
    },
    {
      "cell_type": "code",
      "metadata": {
        "id": "K7QcKgvuvBgZ",
        "colab_type": "code",
        "outputId": "e306d4bd-4864-4d40-f6e4-bf4b16762e22",
        "colab": {
          "base_uri": "https://localhost:8080/",
          "height": 70
        }
      },
      "source": [
        "##\n",
        "## Distribución de los datos en el conjunto de prueba.\n",
        "##\n",
        "round(100 * y_test_true.value_counts() / sum(y_test_true.value_counts()), 1)"
      ],
      "execution_count": 14,
      "outputs": [
        {
          "output_type": "execute_result",
          "data": {
            "text/plain": [
              "ham     87.0\n",
              "spam    13.0\n",
              "Name: type, dtype: float64"
            ]
          },
          "metadata": {
            "tags": []
          },
          "execution_count": 14
        }
      ]
    },
    {
      "cell_type": "markdown",
      "metadata": {
        "id": "SQVsWk0DrH73",
        "colab_type": "text"
      },
      "source": [
        "En este punto hay que ver que se ha utilizado una Regresión logistica como modelo para la clasificación"
      ]
    },
    {
      "cell_type": "code",
      "metadata": {
        "id": "DEcvU9afvJQS",
        "colab_type": "code",
        "outputId": "302b5b5b-e3a2-40b7-b4a9-74eae7207bf7",
        "colab": {
          "base_uri": "https://localhost:8080/",
          "height": 105
        }
      },
      "source": [
        "##\n",
        "## Entrena el modelo\n",
        "##\n",
        "from sklearn.linear_model import LogisticRegression\n",
        "\n",
        "clf = LogisticRegression()\n",
        "\n",
        "##\n",
        "## Se entrena el clasificador\n",
        "##\n",
        "clf.fit(X_train.toarray(), y_train_true)\n",
        "clf"
      ],
      "execution_count": 15,
      "outputs": [
        {
          "output_type": "execute_result",
          "data": {
            "text/plain": [
              "LogisticRegression(C=1.0, class_weight=None, dual=False, fit_intercept=True,\n",
              "                   intercept_scaling=1, l1_ratio=None, max_iter=100,\n",
              "                   multi_class='auto', n_jobs=None, penalty='l2',\n",
              "                   random_state=None, solver='lbfgs', tol=0.0001, verbose=0,\n",
              "                   warm_start=False)"
            ]
          },
          "metadata": {
            "tags": []
          },
          "execution_count": 15
        }
      ]
    },
    {
      "cell_type": "code",
      "metadata": {
        "id": "WbeDoHrKvQTn",
        "colab_type": "code",
        "outputId": "16540cea-5135-4de5-c94e-41b71a7cfc3d",
        "colab": {
          "base_uri": "https://localhost:8080/",
          "height": 34
        }
      },
      "source": [
        "##\n",
        "## Se pronostica para los datos de prueba.\n",
        "##\n",
        "y_test_pred = clf.predict(X_test.toarray())\n",
        "y_test_pred_prob = clf.predict_proba(X_test.toarray())\n",
        "y_test_pred"
      ],
      "execution_count": 17,
      "outputs": [
        {
          "output_type": "execute_result",
          "data": {
            "text/plain": [
              "array(['spam', 'ham', 'ham', ..., 'ham', 'ham', 'ham'], dtype=object)"
            ]
          },
          "metadata": {
            "tags": []
          },
          "execution_count": 17
        }
      ]
    },
    {
      "cell_type": "code",
      "metadata": {
        "id": "M-DWnVmFvSMs",
        "colab_type": "code",
        "outputId": "27b441c6-8ce7-4ecc-8827-95453d88d354",
        "colab": {
          "base_uri": "https://localhost:8080/",
          "height": 52
        }
      },
      "source": [
        "##\n",
        "## Métricas de desempeño\n",
        "##\n",
        "from sklearn.metrics import confusion_matrix\n",
        "confusion_matrix(y_true = y_test_true,\n",
        "                 y_pred = y_test_pred)"
      ],
      "execution_count": 18,
      "outputs": [
        {
          "output_type": "execute_result",
          "data": {
            "text/plain": [
              "array([[1221,    1],\n",
              "       [  26,  157]])"
            ]
          },
          "metadata": {
            "tags": []
          },
          "execution_count": 18
        }
      ]
    },
    {
      "cell_type": "code",
      "metadata": {
        "id": "ihIAjY5RvUmF",
        "colab_type": "code",
        "outputId": "9c430786-2b1c-4c3e-8838-b9943d49a30a",
        "colab": {
          "base_uri": "https://localhost:8080/",
          "height": 87
        }
      },
      "source": [
        "%%R -i y_test_true -i y_test_pred\n",
        "##\n",
        "## Se calcula la matriz de confusión.\n",
        "##\n",
        "table(y_test_true, y_test_pred)"
      ],
      "execution_count": 19,
      "outputs": [
        {
          "output_type": "stream",
          "text": [
            "           y_test_pred\n",
            "y_test_true  ham spam\n",
            "       ham  1221    1\n",
            "       spam   26  157\n"
          ],
          "name": "stdout"
        }
      ]
    },
    {
      "cell_type": "code",
      "metadata": {
        "id": "VTtydWUuvWZm",
        "colab_type": "code",
        "outputId": "830f6e88-dd1e-418a-cae2-43f3db555ad9",
        "colab": {
          "base_uri": "https://localhost:8080/",
          "height": 1000
        }
      },
      "source": [
        "%%R\n",
        "##\n",
        "## Para el análisis resulta mejor construir la\n",
        "## matriz de confusión\n",
        "##\n",
        " install.packages(\"gmodels\")\n",
        "##\n",
        "library(gmodels)\n",
        "CrossTable(y_test_pred,\n",
        "           y_test_true,\n",
        "           prop.chisq = FALSE,\n",
        "           prop.t = FALSE,\n",
        "           dnn = c('predicted', 'actual'))"
      ],
      "execution_count": 20,
      "outputs": [
        {
          "output_type": "stream",
          "text": [
            "R[write to console]: Installing package into ‘/usr/local/lib/R/site-library’\n",
            "(as ‘lib’ is unspecified)\n",
            "\n",
            "R[write to console]: also installing the dependencies ‘gtools’, ‘gdata’\n",
            "\n",
            "\n",
            "R[write to console]: trying URL 'https://cran.rstudio.com/src/contrib/gtools_3.8.2.tar.gz'\n",
            "\n",
            "R[write to console]: Content type 'application/x-gzip'\n",
            "R[write to console]:  length 197529 bytes (192 KB)\n",
            "\n",
            "R[write to console]: =\n",
            "R[write to console]: =\n",
            "R[write to console]: =\n",
            "R[write to console]: =\n",
            "R[write to console]: =\n",
            "R[write to console]: =\n",
            "R[write to console]: =\n",
            "R[write to console]: =\n",
            "R[write to console]: =\n",
            "R[write to console]: =\n",
            "R[write to console]: =\n",
            "R[write to console]: =\n",
            "R[write to console]: =\n",
            "R[write to console]: =\n",
            "R[write to console]: =\n",
            "R[write to console]: =\n",
            "R[write to console]: =\n",
            "R[write to console]: =\n",
            "R[write to console]: =\n",
            "R[write to console]: =\n",
            "R[write to console]: =\n",
            "R[write to console]: =\n",
            "R[write to console]: =\n",
            "R[write to console]: =\n",
            "R[write to console]: =\n",
            "R[write to console]: =\n",
            "R[write to console]: =\n",
            "R[write to console]: =\n",
            "R[write to console]: =\n",
            "R[write to console]: =\n",
            "R[write to console]: =\n",
            "R[write to console]: =\n",
            "R[write to console]: =\n",
            "R[write to console]: =\n",
            "R[write to console]: =\n",
            "R[write to console]: =\n",
            "R[write to console]: =\n",
            "R[write to console]: =\n",
            "R[write to console]: =\n",
            "R[write to console]: =\n",
            "R[write to console]: =\n",
            "R[write to console]: =\n",
            "R[write to console]: =\n",
            "R[write to console]: =\n",
            "R[write to console]: =\n",
            "R[write to console]: =\n",
            "R[write to console]: =\n",
            "R[write to console]: =\n",
            "R[write to console]: =\n",
            "R[write to console]: =\n",
            "R[write to console]: \n",
            "\n",
            "R[write to console]: downloaded 192 KB\n",
            "\n",
            "\n",
            "R[write to console]: trying URL 'https://cran.rstudio.com/src/contrib/gdata_2.18.0.tar.gz'\n",
            "\n",
            "R[write to console]: Content type 'application/x-gzip'\n",
            "R[write to console]:  length 1058430 bytes (1.0 MB)\n",
            "\n",
            "R[write to console]: =\n",
            "R[write to console]: =\n",
            "R[write to console]: =\n",
            "R[write to console]: =\n",
            "R[write to console]: =\n",
            "R[write to console]: =\n",
            "R[write to console]: =\n",
            "R[write to console]: =\n",
            "R[write to console]: =\n",
            "R[write to console]: =\n",
            "R[write to console]: =\n",
            "R[write to console]: =\n",
            "R[write to console]: =\n",
            "R[write to console]: =\n",
            "R[write to console]: =\n",
            "R[write to console]: =\n",
            "R[write to console]: =\n",
            "R[write to console]: =\n",
            "R[write to console]: =\n",
            "R[write to console]: =\n",
            "R[write to console]: =\n",
            "R[write to console]: =\n",
            "R[write to console]: =\n",
            "R[write to console]: =\n",
            "R[write to console]: =\n",
            "R[write to console]: =\n",
            "R[write to console]: =\n",
            "R[write to console]: =\n",
            "R[write to console]: =\n",
            "R[write to console]: =\n",
            "R[write to console]: =\n",
            "R[write to console]: =\n",
            "R[write to console]: =\n",
            "R[write to console]: =\n",
            "R[write to console]: =\n",
            "R[write to console]: =\n",
            "R[write to console]: =\n",
            "R[write to console]: =\n",
            "R[write to console]: =\n",
            "R[write to console]: =\n",
            "R[write to console]: =\n",
            "R[write to console]: =\n",
            "R[write to console]: =\n",
            "R[write to console]: =\n",
            "R[write to console]: =\n",
            "R[write to console]: =\n",
            "R[write to console]: =\n",
            "R[write to console]: =\n",
            "R[write to console]: =\n",
            "R[write to console]: =\n",
            "R[write to console]: \n",
            "\n",
            "R[write to console]: downloaded 1.0 MB\n",
            "\n",
            "\n",
            "R[write to console]: trying URL 'https://cran.rstudio.com/src/contrib/gmodels_2.18.1.tar.gz'\n",
            "\n",
            "R[write to console]: Content type 'application/x-gzip'\n",
            "R[write to console]:  length 33783 bytes (32 KB)\n",
            "\n",
            "R[write to console]: =\n",
            "R[write to console]: =\n",
            "R[write to console]: =\n",
            "R[write to console]: =\n",
            "R[write to console]: =\n",
            "R[write to console]: =\n",
            "R[write to console]: =\n",
            "R[write to console]: =\n",
            "R[write to console]: =\n",
            "R[write to console]: =\n",
            "R[write to console]: =\n",
            "R[write to console]: =\n",
            "R[write to console]: =\n",
            "R[write to console]: =\n",
            "R[write to console]: =\n",
            "R[write to console]: =\n",
            "R[write to console]: =\n",
            "R[write to console]: =\n",
            "R[write to console]: =\n",
            "R[write to console]: =\n",
            "R[write to console]: =\n",
            "R[write to console]: =\n",
            "R[write to console]: =\n",
            "R[write to console]: =\n",
            "R[write to console]: =\n",
            "R[write to console]: =\n",
            "R[write to console]: =\n",
            "R[write to console]: =\n",
            "R[write to console]: =\n",
            "R[write to console]: =\n",
            "R[write to console]: =\n",
            "R[write to console]: =\n",
            "R[write to console]: =\n",
            "R[write to console]: =\n",
            "R[write to console]: =\n",
            "R[write to console]: =\n",
            "R[write to console]: =\n",
            "R[write to console]: =\n",
            "R[write to console]: =\n",
            "R[write to console]: =\n",
            "R[write to console]: =\n",
            "R[write to console]: =\n",
            "R[write to console]: =\n",
            "R[write to console]: =\n",
            "R[write to console]: =\n",
            "R[write to console]: =\n",
            "R[write to console]: =\n",
            "R[write to console]: =\n",
            "R[write to console]: =\n",
            "R[write to console]: =\n",
            "R[write to console]: \n",
            "\n",
            "R[write to console]: downloaded 32 KB\n",
            "\n",
            "\n",
            "R[write to console]: \n",
            "\n",
            "R[write to console]: \n",
            "R[write to console]: The downloaded source packages are in\n",
            "\t‘/tmp/RtmptaHRm1/downloaded_packages’\n",
            "R[write to console]: \n",
            "R[write to console]: \n",
            "\n"
          ],
          "name": "stderr"
        },
        {
          "output_type": "stream",
          "text": [
            "\n",
            " \n",
            "   Cell Contents\n",
            "|-------------------------|\n",
            "|                       N |\n",
            "|           N / Row Total |\n",
            "|           N / Col Total |\n",
            "|-------------------------|\n",
            "\n",
            " \n",
            "Total Observations in Table:  1405 \n",
            "\n",
            " \n",
            "             | actual \n",
            "   predicted |       ham |      spam | Row Total | \n",
            "-------------|-----------|-----------|-----------|\n",
            "         ham |      1221 |        26 |      1247 | \n",
            "             |     0.979 |     0.021 |     0.888 | \n",
            "             |     0.999 |     0.142 |           | \n",
            "-------------|-----------|-----------|-----------|\n",
            "        spam |         1 |       157 |       158 | \n",
            "             |     0.006 |     0.994 |     0.112 | \n",
            "             |     0.001 |     0.858 |           | \n",
            "-------------|-----------|-----------|-----------|\n",
            "Column Total |      1222 |       183 |      1405 | \n",
            "             |     0.870 |     0.130 |           | \n",
            "-------------|-----------|-----------|-----------|\n",
            "\n",
            " \n"
          ],
          "name": "stdout"
        }
      ]
    },
    {
      "cell_type": "code",
      "metadata": {
        "id": "N0MnwA-L1ZKF",
        "colab_type": "code",
        "outputId": "aaa3ad39-c8f3-4599-a0e6-5da78ea387cf",
        "colab": {
          "base_uri": "https://localhost:8080/",
          "height": 197
        }
      },
      "source": [
        "##\n",
        "## Resulta más conveniente preparar una nueva tabla que\n",
        "## muestre la clasificación y no únicamente las\n",
        "## probabilidades.\n",
        "##\n",
        "results = pd.DataFrame(data = {\n",
        "    'actual_type':  y_test_true,\n",
        "    'predict_type': y_test_pred,\n",
        "    'prob_ham':     [v[0] for v in y_test_pred_prob],\n",
        "    'prob_spam':    [v[1] for v in y_test_pred_prob]})\n",
        "\n",
        "results.head(5)"
      ],
      "execution_count": 21,
      "outputs": [
        {
          "output_type": "execute_result",
          "data": {
            "text/html": [
              "<div>\n",
              "<style scoped>\n",
              "    .dataframe tbody tr th:only-of-type {\n",
              "        vertical-align: middle;\n",
              "    }\n",
              "\n",
              "    .dataframe tbody tr th {\n",
              "        vertical-align: top;\n",
              "    }\n",
              "\n",
              "    .dataframe thead th {\n",
              "        text-align: right;\n",
              "    }\n",
              "</style>\n",
              "<table border=\"1\" class=\"dataframe\">\n",
              "  <thead>\n",
              "    <tr style=\"text-align: right;\">\n",
              "      <th></th>\n",
              "      <th>actual_type</th>\n",
              "      <th>predict_type</th>\n",
              "      <th>prob_ham</th>\n",
              "      <th>prob_spam</th>\n",
              "    </tr>\n",
              "  </thead>\n",
              "  <tbody>\n",
              "    <tr>\n",
              "      <th>4169</th>\n",
              "      <td>spam</td>\n",
              "      <td>spam</td>\n",
              "      <td>0.019598</td>\n",
              "      <td>0.980402</td>\n",
              "    </tr>\n",
              "    <tr>\n",
              "      <th>4170</th>\n",
              "      <td>ham</td>\n",
              "      <td>ham</td>\n",
              "      <td>0.925093</td>\n",
              "      <td>0.074907</td>\n",
              "    </tr>\n",
              "    <tr>\n",
              "      <th>4171</th>\n",
              "      <td>ham</td>\n",
              "      <td>ham</td>\n",
              "      <td>0.888100</td>\n",
              "      <td>0.111900</td>\n",
              "    </tr>\n",
              "    <tr>\n",
              "      <th>4172</th>\n",
              "      <td>ham</td>\n",
              "      <td>ham</td>\n",
              "      <td>0.999433</td>\n",
              "      <td>0.000567</td>\n",
              "    </tr>\n",
              "    <tr>\n",
              "      <th>4173</th>\n",
              "      <td>ham</td>\n",
              "      <td>ham</td>\n",
              "      <td>0.996573</td>\n",
              "      <td>0.003427</td>\n",
              "    </tr>\n",
              "  </tbody>\n",
              "</table>\n",
              "</div>"
            ],
            "text/plain": [
              "     actual_type predict_type  prob_ham  prob_spam\n",
              "4169        spam         spam  0.019598   0.980402\n",
              "4170         ham          ham  0.925093   0.074907\n",
              "4171         ham          ham  0.888100   0.111900\n",
              "4172         ham          ham  0.999433   0.000567\n",
              "4173         ham          ham  0.996573   0.003427"
            ]
          },
          "metadata": {
            "tags": []
          },
          "execution_count": 21
        }
      ]
    },
    {
      "cell_type": "markdown",
      "metadata": {
        "id": "5QeLztHcrzcW",
        "colab_type": "text"
      },
      "source": [
        "En este punto tenemos un modelo base, sus metricas de desempeño y con estos datos, podemos proceder a crear una red neuronal para comparar los resultados."
      ]
    },
    {
      "cell_type": "code",
      "metadata": {
        "id": "zzKobrHZ1lnd",
        "colab_type": "code",
        "outputId": "fad2e79e-5b75-4f39-9a7c-5096e6b1b1be",
        "colab": {
          "base_uri": "https://localhost:8080/",
          "height": 72
        }
      },
      "source": [
        "from sklearn.neural_network import MLPClassifier\n",
        "from sklearn.model_selection import RepeatedKFold\n",
        "from sklearn.metrics import accuracy_score\n",
        "rkf = RepeatedKFold(n_splits=10,\n",
        "                    random_state=1)\n",
        "X      = dtm[:,]\n",
        "Y = df.type\n",
        "\n",
        "\n",
        "validation_errors = []\n",
        "training_errors = []\n",
        "\n",
        "modelos = {}\n",
        "## i = numero de neuronas en la capa oculta\n",
        "for i in range(1,11):\n",
        "    breakingFlag=False\n",
        "    m = MLPClassifier(activation='relu', \n",
        "                      hidden_layer_sizes=(i,), \n",
        "                      learning_rate='adaptive',\n",
        "                      learning_rate_init=0.001, \n",
        "                      random_state=1, \n",
        "                      shuffle=True,\n",
        "                      warm_start=True,\n",
        "                      max_iter=10000)\n",
        "                      #early_stopping = True) #No es posible porque con warm start true no existe el atributo Best_loss, y sin él, demora mucho más todo el proceso\n",
        "    modelos[i] = m\n",
        "    Y_tested = []\n",
        "    Y_predicted = []\n",
        "    error_entrenamiento = 0\n",
        "    error_validacion = 0\n",
        "    c=0\n",
        "    for train, test in rkf.split(X):\n",
        "\n",
        "        ### Entrenar\n",
        "        X_train = X[train]\n",
        "        Y_train = Y[train]\n",
        "        X_test = X[test]\n",
        "        Y_test = Y[test]\n",
        "        modelos[i].fit(X_train,Y_train)\n",
        "        error_entrenamiento+=(m.loss_)\n",
        "        c+=1\n",
        "        Y_pred = modelos[i].predict(X_test)\n",
        "        error_validacion += accuracy_score(Y_test,Y_pred)\n",
        "    validation_errors.append(error_validacion/c)\n",
        "    training_errors.append(error_entrenamiento/c)\n",
        "    #print(error_validacion/c)\n",
        "print(validation_errors)\n",
        "print(training_errors)"
      ],
      "execution_count": 26,
      "outputs": [
        {
          "output_type": "stream",
          "text": [
            "[0.9986546270020534, 0.9986903405983157, 0.9982778324742774, 0.9988339671692313, 0.998762314755829, 0.9988339671692315, 0.9987801072051383, 0.9993004639550077, 0.998977465042503, 0.9987979961776806]\n",
            "[0.012148719510551222, 0.00689221483332514, 0.007465367387385794, 0.005777196828438137, 0.005038300767057908, 0.0051002899443434516, 0.005231971814240053, 0.0044988512757704255, 0.004843275948439386, 0.005469273775020527]\n"
          ],
          "name": "stdout"
        }
      ]
    },
    {
      "cell_type": "markdown",
      "metadata": {
        "id": "6VNVqn0Ythfv",
        "colab_type": "text"
      },
      "source": [
        "Observamos los errores de validación y de entrenamiento en una gráfica para interpretar más fácilmente cuál es la red neuronal que mejores resultados da"
      ]
    },
    {
      "cell_type": "code",
      "metadata": {
        "id": "J9drFuGitBJG",
        "colab_type": "code",
        "colab": {
          "base_uri": "https://localhost:8080/",
          "height": 264
        },
        "outputId": "dd1590df-191e-4897-d062-2cd6f7c785b4"
      },
      "source": [
        "import matplotlib.pyplot as plt\n",
        "\n",
        "aa = plt.subplot()\n",
        "b = list(range(len(validation_errors)))\n",
        "aa.plot(b, validation_errors, color='black');\n",
        "\n",
        "b = list(range(len(training_errors)))\n",
        "aa.plot(b, training_errors, color='blue');\n",
        "\n",
        "plt.show()"
      ],
      "execution_count": 25,
      "outputs": [
        {
          "output_type": "display_data",
          "data": {
            "image/png": "[encoded data removed]",
            "text/plain": [
              "<Figure size 432x288 with 1 Axes>"
            ]
          },
          "metadata": {
            "tags": []
          }
        }
      ]
    },
    {
      "cell_type": "markdown",
      "metadata": {
        "id": "DSz91Erst32j",
        "colab_type": "text"
      },
      "source": [
        "Como los resultados son poco claros se separan las gráficas para observar mejor"
      ]
    },
    {
      "cell_type": "code",
      "metadata": {
        "id": "wJp7K4MDtsQT",
        "colab_type": "code",
        "colab": {
          "base_uri": "https://localhost:8080/",
          "height": 264
        },
        "outputId": "5f1734aa-771f-4497-a7b5-8b941b775895"
      },
      "source": [
        "aa = plt.subplot()\n",
        "b = list(range(1,len(validation_errors)+1))\n",
        "aa.plot(b, validation_errors, color='black');\n",
        "\n",
        "plt.show()"
      ],
      "execution_count": 30,
      "outputs": [
        {
          "output_type": "display_data",
          "data": {
            "image/png": "[encoded data removed]",
            "text/plain": [
              "<Figure size 432x288 with 1 Axes>"
            ]
          },
          "metadata": {
            "tags": []
          }
        }
      ]
    },
    {
      "cell_type": "code",
      "metadata": {
        "id": "w8zjbfuHtwDV",
        "colab_type": "code",
        "colab": {
          "base_uri": "https://localhost:8080/",
          "height": 264
        },
        "outputId": "f4bd7b49-5f14-46cc-fdcb-32a696039115"
      },
      "source": [
        "aa = plt.subplot()\n",
        "\n",
        "b = list(range(1,len(training_errors)+1))\n",
        "aa.plot(b, training_errors, color='blue');\n",
        "\n",
        "plt.show()"
      ],
      "execution_count": 32,
      "outputs": [
        {
          "output_type": "display_data",
          "data": {
            "image/png": "[encoded data removed]",
            "text/plain": [
              "<Figure size 432x288 with 1 Axes>"
            ]
          },
          "metadata": {
            "tags": []
          }
        }
      ]
    },
    {
      "cell_type": "markdown",
      "metadata": {
        "id": "9qRwrrG9uW4G",
        "colab_type": "text"
      },
      "source": [
        "Se puede observar que con 3 neuronas el error de validación es el mínimo, y el error de entrenamiento es bajo también, sin embargo, hay que tener en cuenta que la escala nos muestra errores de ordenes muy similares, por lo que dependiendo del problema, uno podría pensar que una red neuronal con 1 sola neurona es suficientemente precisa para cumplir con los objetivos propuestos.\n",
        "En este caso se continuará con la red de 3 neuronas en la capa oculta.\n",
        "\n",
        "Se vuelven a definir los X y Y como se definieron inicialmente, pues durante el crossvalidation de la red neuronal se redefinieron y se procede a obtener las metricas de desempeño"
      ]
    },
    {
      "cell_type": "code",
      "metadata": {
        "id": "03Z7hi4E6ELs",
        "colab_type": "code",
        "outputId": "8c346196-8308-4362-b93e-2080e278ad0c",
        "colab": {
          "base_uri": "https://localhost:8080/",
          "height": 34
        }
      },
      "source": [
        "##\n",
        "## Se pronostica para los datos de prueba.\n",
        "##\n",
        "X_train      = dtm[0:4168,]\n",
        "X_test       = dtm[4169:,]\n",
        "y_train_true = df.type[0:4168]\n",
        "y_test_true  = df.type[4169:]\n",
        "\n",
        "\n",
        "y_test_pred = modelos[1].predict(X_test.toarray())\n",
        "y_test_pred_prob = modelos[1].predict_proba(X_test.toarray())\n",
        "y_test_pred"
      ],
      "execution_count": 48,
      "outputs": [
        {
          "output_type": "execute_result",
          "data": {
            "text/plain": [
              "array(['spam', 'ham', 'ham', ..., 'ham', 'ham', 'ham'], dtype='<U4')"
            ]
          },
          "metadata": {
            "tags": []
          },
          "execution_count": 48
        }
      ]
    },
    {
      "cell_type": "code",
      "metadata": {
        "id": "YA3xgjqE7IGU",
        "colab_type": "code",
        "outputId": "c90afe96-071c-4eba-ed5e-4ca0716e85e8",
        "colab": {
          "base_uri": "https://localhost:8080/",
          "height": 141
        }
      },
      "source": [
        "y_test_pred_prob"
      ],
      "execution_count": 49,
      "outputs": [
        {
          "output_type": "execute_result",
          "data": {
            "text/plain": [
              "array([[1.28345311e-06, 9.99998717e-01],\n",
              "       [9.96756543e-01, 3.24345712e-03],\n",
              "       [9.96756543e-01, 3.24345712e-03],\n",
              "       ...,\n",
              "       [9.96756543e-01, 3.24345712e-03],\n",
              "       [9.96756543e-01, 3.24345712e-03],\n",
              "       [9.96756543e-01, 3.24345712e-03]])"
            ]
          },
          "metadata": {
            "tags": []
          },
          "execution_count": 49
        }
      ]
    },
    {
      "cell_type": "code",
      "metadata": {
        "id": "D9HisRy77JsI",
        "colab_type": "code",
        "outputId": "4441521b-30ad-40dc-fa35-cc559ec9bf0e",
        "colab": {
          "base_uri": "https://localhost:8080/",
          "height": 52
        }
      },
      "source": [
        "##\n",
        "## Métricas de desempeño\n",
        "##\n",
        "from sklearn.metrics import confusion_matrix\n",
        "confusion_matrix(y_true = y_test_true,\n",
        "                 y_pred = y_test_pred)"
      ],
      "execution_count": 51,
      "outputs": [
        {
          "output_type": "execute_result",
          "data": {
            "text/plain": [
              "array([[1222,    0],\n",
              "       [   1,  182]])"
            ]
          },
          "metadata": {
            "tags": []
          },
          "execution_count": 51
        }
      ]
    },
    {
      "cell_type": "code",
      "metadata": {
        "id": "zLiG8c6P7ODq",
        "colab_type": "code",
        "outputId": "c6df9bfb-aa49-4173-e2ce-811829c8be5e",
        "colab": {
          "base_uri": "https://localhost:8080/",
          "height": 87
        }
      },
      "source": [
        "%%R -i Y_test -i y_test_pred\n",
        "##\n",
        "## Se calcula la matriz de confusión.\n",
        "##\n",
        "table(y_test_true, y_test_pred)"
      ],
      "execution_count": 52,
      "outputs": [
        {
          "output_type": "stream",
          "text": [
            "           y_test_pred\n",
            "y_test_true  ham spam\n",
            "       ham  1222    0\n",
            "       spam    1  182\n"
          ],
          "name": "stdout"
        }
      ]
    },
    {
      "cell_type": "code",
      "metadata": {
        "id": "UP0sVPFB7SqX",
        "colab_type": "code",
        "outputId": "723b1205-763e-4875-b790-9be1c3e2c535",
        "colab": {
          "base_uri": "https://localhost:8080/",
          "height": 532
        }
      },
      "source": [
        "%%R\n",
        "##\n",
        "## Para el análisis resulta mejor construir la\n",
        "## matriz de confusión\n",
        "##\n",
        "# install.packages(\"gmodels\")\n",
        "##\n",
        "library(gmodels)\n",
        "CrossTable(y_test_pred,\n",
        "           y_test_true,\n",
        "           prop.chisq = FALSE,\n",
        "           prop.t = FALSE,\n",
        "           dnn = c('predicted', 'actual'))"
      ],
      "execution_count": 53,
      "outputs": [
        {
          "output_type": "stream",
          "text": [
            "\n",
            " \n",
            "   Cell Contents\n",
            "|-------------------------|\n",
            "|                       N |\n",
            "|           N / Row Total |\n",
            "|           N / Col Total |\n",
            "|-------------------------|\n",
            "\n",
            " \n",
            "Total Observations in Table:  1405 \n",
            "\n",
            " \n",
            "             | actual \n",
            "   predicted |       ham |      spam | Row Total | \n",
            "-------------|-----------|-----------|-----------|\n",
            "         ham |      1222 |         1 |      1223 | \n",
            "             |     0.999 |     0.001 |     0.870 | \n",
            "             |     1.000 |     0.005 |           | \n",
            "-------------|-----------|-----------|-----------|\n",
            "        spam |         0 |       182 |       182 | \n",
            "             |     0.000 |     1.000 |     0.130 | \n",
            "             |     0.000 |     0.995 |           | \n",
            "-------------|-----------|-----------|-----------|\n",
            "Column Total |      1222 |       183 |      1405 | \n",
            "             |     0.870 |     0.130 |           | \n",
            "-------------|-----------|-----------|-----------|\n",
            "\n",
            " \n"
          ],
          "name": "stdout"
        }
      ]
    },
    {
      "cell_type": "markdown",
      "metadata": {
        "id": "hqZwQ_qBxYLU",
        "colab_type": "text"
      },
      "source": [
        "Se puede ver que los datos son concluyentes, obteniendo en el mismo set de datos un solo error, en contra de los más de 20 errores obtenidos con la regresión logística, por lo que el mejor clasificador según los datos disponibles es la red neuronal con una sola neurona en la capa oculta"
      ]
    },
    {
      "cell_type": "code",
      "metadata": {
        "id": "3Mp1LhhQ7aE5",
        "colab_type": "code",
        "colab": {}
      },
      "source": [
        ""
      ],
      "execution_count": 0,
      "outputs": []
    }
  ]
}